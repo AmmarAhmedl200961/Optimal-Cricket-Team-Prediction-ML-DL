{
  "cells": [
    {
      "cell_type": "markdown",
      "metadata": {
        "id": "CpuiHiqbZDsr"
      },
      "source": [
        "# Data Scraping with BeautifulSoup and Requests\n",
        "\n",
        "This notebook demonstrates how to scrape cricket statistics from ESPN Cricinfo using BeautifulSoup and Requests.\n",
        "\n",
        "## Importing Libraries\n",
        "\n",
        "We start by importing the necessary libraries."
      ]
    },
    {
      "cell_type": "code",
      "execution_count": null,
      "metadata": {
        "id": "WXRuxgyySgwd"
      },
      "outputs": [],
      "source": [
        "from bs4 import BeautifulSoup\n",
        "import requests\n",
        "import pandas as pd"
      ]
    },
    {
      "cell_type": "markdown",
      "metadata": {
        "id": "qiC86HXdZDst"
      },
      "source": [
        "# **test on base requests**\n",
        "\n",
        "from here we can see that the site has bot-detection (403 error)"
      ]
    },
    {
      "cell_type": "code",
      "execution_count": null,
      "metadata": {
        "colab": {
          "base_uri": "https://localhost:8080/"
        },
        "id": "wCGNiNakZDst",
        "outputId": "c7e7257d-e25c-4fd6-f823-724e99d522a7"
      },
      "outputs": [
        {
          "data": {
            "text/plain": [
              "<Response [403]>"
            ]
          },
          "execution_count": 2,
          "metadata": {},
          "output_type": "execute_result"
        }
      ],
      "source": [
        "#403--->access denied\n",
        "#200 ---> granted\n",
        "requests.get('https://stats.espncricinfo.com/ci/engine/stats/index.html?class=3;spanmin1=24+Nov+2012;spanval1=span;team=7;template=results;type=allround')"
      ]
    },
    {
      "cell_type": "markdown",
      "metadata": {
        "id": "540-d_PbZDsu"
      },
      "source": [
        "using [`curl_cffi`](https://www.reddit.com/r/webscraping/comments/15xb82e/comment/jx594uu/?utm_source=share&utm_medium=web3x&utm_name=web3xcss&utm_term=1&utm_content=share_button).\n",
        "\n",
        "TO BYPASS BOT DETECTION"
      ]
    },
    {
      "cell_type": "code",
      "execution_count": null,
      "metadata": {
        "id": "sUZ_b6qbV-hf",
        "outputId": "d33b800a-bad0-4818-a548-5bb27a2f2308"
      },
      "outputs": [
        {
          "name": "stdout",
          "output_type": "stream",
          "text": [
            "Requirement already satisfied: curl_cffi in c:\\users\\mukht\\appdata\\local\\programs\\python\\python312\\lib\\site-packages (0.7.2)\n",
            "Requirement already satisfied: cffi>=1.12.0 in c:\\users\\mukht\\appdata\\local\\programs\\python\\python312\\lib\\site-packages (from curl_cffi) (1.17.0)\n",
            "Requirement already satisfied: certifi>=2024.2.2 in c:\\users\\mukht\\appdata\\local\\programs\\python\\python312\\lib\\site-packages (from curl_cffi) (2024.7.4)\n",
            "Requirement already satisfied: typing-extensions in c:\\users\\mukht\\appdata\\local\\programs\\python\\python312\\lib\\site-packages (from curl_cffi) (4.12.2)\n",
            "Requirement already satisfied: pycparser in c:\\users\\mukht\\appdata\\local\\programs\\python\\python312\\lib\\site-packages (from cffi>=1.12.0->curl_cffi) (2.22)\n"
          ]
        }
      ],
      "source": [
        "!pip install curl_cffi\n"
      ]
    },
    {
      "cell_type": "code",
      "execution_count": null,
      "metadata": {
        "id": "JODghK1WVQvd"
      },
      "outputs": [],
      "source": [
        "from curl_cffi import requests"
      ]
    },
    {
      "cell_type": "code",
      "execution_count": null,
      "metadata": {
        "colab": {
          "base_uri": "https://localhost:8080/"
        },
        "id": "NKC6PBjBVS6t",
        "outputId": "92c8dfbc-a6c8-4a57-e5d3-28c02aeb5c89"
      },
      "outputs": [
        {
          "data": {
            "text/plain": [
              "<Response [200]>"
            ]
          },
          "execution_count": 5,
          "metadata": {},
          "output_type": "execute_result"
        }
      ],
      "source": [
        "\n",
        "response = requests.get('https://stats.espncricinfo.com/ci/engine/stats/index.html?class=3;spanmin1=24+Nov+2012;spanval1=span;team=7;template=results;type=allround',impersonate=\"chrome110\")\n",
        "response"
      ]
    },
    {
      "cell_type": "markdown",
      "metadata": {
        "id": "RwL6qv4WZDsv"
      },
      "source": [
        "as we get 200 we are now granted access thanks to curl_cffi\n"
      ]
    },
    {
      "cell_type": "markdown",
      "metadata": {
        "id": "iMq61rL-ZDsv"
      },
      "source": [
        "## URLs for Different Formats\n",
        "\n",
        "We define the base URLs for different cricket formats and types (all-round, batting, bowling) starting from 24 November 2024"
      ]
    },
    {
      "cell_type": "code",
      "execution_count": null,
      "metadata": {
        "id": "pVDL3OJSZDsw"
      },
      "outputs": [],
      "source": [
        "\n",
        "urls = {\n",
        "    \"TEST_ALL\": \"https://stats.espncricinfo.com/ci/engine/stats/index.html?class=1;spanmin1=24+Nov+2012;spanval1=span;team=7;template=results;type=allround\",\n",
        "    \"ODI_ALL\": \"https://stats.espncricinfo.com/ci/engine/stats/index.html?class=2;spanmin1=24+Nov+2012;spanval1=span;team=7;template=results;type=allround\",\n",
        "    \"T20Is_ALL\": \"https://stats.espncricinfo.com/ci/engine/stats/index.html?class=3;spanmin1=24+Nov+2012;spanval1=span;team=7;template=results;type=allround\",\n",
        "    \"Tests_bat\": \"https://stats.espncricinfo.com/ci/engine/stats/index.html?class=1;spanmin1=24+Nov+2012;spanval1=span;team=7;template=results;type=batting\",\n",
        "    \"ODIs_bat\": \"https://stats.espncricinfo.com/ci/engine/stats/index.html?class=2;spanmin1=24+Nov+2012;spanval1=span;team=7;template=results;type=batting\",\n",
        "    \"T20Is_bat\": \"https://stats.espncricinfo.com/ci/engine/stats/index.html?class=3;spanmin1=24+Nov+2012;spanval1=span;team=7;template=results;type=batting\",\n",
        "    \"Tests_bowl\": \"https://stats.espncricinfo.com/ci/engine/stats/index.html?class=1;spanmin1=24+Nov+2012;spanval1=span;team=7;template=results;type=bowling\",\n",
        "    \"ODIs_bowl\": \"https://stats.espncricinfo.com/ci/engine/stats/index.html?class=2;spanmin1=24+Nov+2012;spanval1=span;team=7;template=results;type=bowling\",\n",
        "    \"T20Is_bowl\": \"https://stats.espncricinfo.com/ci/engine/stats/index.html?class=3;spanmin1=24+Nov+2012;spanval1=span;team=7;template=results;type=bowling\"\n",
        "}"
      ]
    },
    {
      "cell_type": "markdown",
      "metadata": {
        "id": "icg7Q2PYZDsw"
      },
      "source": [
        "## Scraping Functions\n",
        "\n",
        "We define two functions: `scrape_page` to scrape a single page\n",
        "and\n",
        " `scrape_all_pages` to handle multiple pages"
      ]
    },
    {
      "cell_type": "code",
      "execution_count": null,
      "metadata": {
        "id": "VCgtqEa3ZDsw"
      },
      "outputs": [],
      "source": [
        "#single page\n",
        "def scrape_page(url):\n",
        "    response = requests.get(url, impersonate='chrome110')\n",
        "    soup = BeautifulSoup(response.content, 'html.parser')\n",
        "    table_soup = soup.find_all('table', class_='engineTable')\n",
        "    table = table_soup[2]\n",
        "#columns\n",
        "    headers = []\n",
        "    for th in table.find_all('th'):\n",
        "        headers.append(th.get_text(strip=True))\n",
        "#rows\n",
        "    rows = []\n",
        "    for tr in table.find_all('tr', class_='data1'):\n",
        "        data_rs = tr.find_all('td') #data in rows\n",
        "        row = [data_r.get_text(strip=True) for data_r in data_rs]\n",
        "        rows.append(row)\n",
        "        #new dataframe\n",
        "    df = pd.DataFrame(rows, columns=headers)\n",
        "    return df\n",
        "\n",
        "\n",
        "#handle multiple pages we only have 2 pages for each so max_pages=2\n",
        "def scrape_all_pages(base, max_pages=2):\n",
        "    final_df = []\n",
        "    page = 1\n",
        "    while page <= max_pages:\n",
        "        try:\n",
        "            pagelink = base + \";page=\" + str(page)\n",
        "            print(\"Scraping \" + pagelink)\n",
        "            df = scrape_page(pagelink)\n",
        "            #no data:::::::::stops\n",
        "            if df.empty:\n",
        "                break\n",
        "            #append df to final_df\n",
        "            final_df.append(df)\n",
        "            page += 1\n",
        "\n",
        "        except Exception as e:\n",
        "            print(\"Error on page \" + str(page) + \": \" + str(e))\n",
        "            break\n",
        "\n",
        "#concatenate data from multiple pages\n",
        "    if final_df:\n",
        "        final_df = pd.concat(final_df, ignore_index=True)\n",
        "    else:\n",
        "        final_df = pd.DataFrame()\n",
        "\n",
        "    return final_df\n"
      ]
    },
    {
      "cell_type": "markdown",
      "metadata": {
        "id": "z2rr_8SKZDsw"
      },
      "source": [
        "##iterate through url ,scrap data and save the data to a .csv file"
      ]
    },
    {
      "cell_type": "code",
      "execution_count": null,
      "metadata": {
        "colab": {
          "base_uri": "https://localhost:8080/"
        },
        "id": "BCdSJzVGRG8o",
        "outputId": "0ae782a8-01a3-4e67-a69c-d637fb747e25"
      },
      "outputs": [
        {
          "name": "stdout",
          "output_type": "stream",
          "text": [
            "ProcessingTEST_ALL.csv\n",
            "Scraping https://stats.espncricinfo.com/ci/engine/stats/index.html?class=1;spanmin1=24+Nov+2012;spanval1=span;team=7;template=results;type=allround;page=1\n",
            "Scraping https://stats.espncricinfo.com/ci/engine/stats/index.html?class=1;spanmin1=24+Nov+2012;spanval1=span;team=7;template=results;type=allround;page=2\n",
            "TEST_ALL.csv  SAVED!!!!!\n",
            "ProcessingODI_ALL.csv\n",
            "Scraping https://stats.espncricinfo.com/ci/engine/stats/index.html?class=2;spanmin1=24+Nov+2012;spanval1=span;team=7;template=results;type=allround;page=1\n",
            "Scraping https://stats.espncricinfo.com/ci/engine/stats/index.html?class=2;spanmin1=24+Nov+2012;spanval1=span;team=7;template=results;type=allround;page=2\n",
            "ODI_ALL.csv  SAVED!!!!!\n",
            "ProcessingT20Is_ALL.csv\n",
            "Scraping https://stats.espncricinfo.com/ci/engine/stats/index.html?class=3;spanmin1=24+Nov+2012;spanval1=span;team=7;template=results;type=allround;page=1\n",
            "Scraping https://stats.espncricinfo.com/ci/engine/stats/index.html?class=3;spanmin1=24+Nov+2012;spanval1=span;team=7;template=results;type=allround;page=2\n",
            "T20Is_ALL.csv  SAVED!!!!!\n",
            "ProcessingTests_bat.csv\n",
            "Scraping https://stats.espncricinfo.com/ci/engine/stats/index.html?class=1;spanmin1=24+Nov+2012;spanval1=span;team=7;template=results;type=batting;page=1\n",
            "Scraping https://stats.espncricinfo.com/ci/engine/stats/index.html?class=1;spanmin1=24+Nov+2012;spanval1=span;team=7;template=results;type=batting;page=2\n",
            "Tests_bat.csv  SAVED!!!!!\n",
            "ProcessingODIs_bat.csv\n",
            "Scraping https://stats.espncricinfo.com/ci/engine/stats/index.html?class=2;spanmin1=24+Nov+2012;spanval1=span;team=7;template=results;type=batting;page=1\n",
            "Scraping https://stats.espncricinfo.com/ci/engine/stats/index.html?class=2;spanmin1=24+Nov+2012;spanval1=span;team=7;template=results;type=batting;page=2\n",
            "ODIs_bat.csv  SAVED!!!!!\n",
            "ProcessingT20Is_bat.csv\n",
            "Scraping https://stats.espncricinfo.com/ci/engine/stats/index.html?class=3;spanmin1=24+Nov+2012;spanval1=span;team=7;template=results;type=batting;page=1\n",
            "Scraping https://stats.espncricinfo.com/ci/engine/stats/index.html?class=3;spanmin1=24+Nov+2012;spanval1=span;team=7;template=results;type=batting;page=2\n",
            "T20Is_bat.csv  SAVED!!!!!\n",
            "ProcessingTests_bowl.csv\n",
            "Scraping https://stats.espncricinfo.com/ci/engine/stats/index.html?class=1;spanmin1=24+Nov+2012;spanval1=span;team=7;template=results;type=bowling;page=1\n",
            "Scraping https://stats.espncricinfo.com/ci/engine/stats/index.html?class=1;spanmin1=24+Nov+2012;spanval1=span;team=7;template=results;type=bowling;page=2\n",
            "Tests_bowl.csv  SAVED!!!!!\n",
            "ProcessingODIs_bowl.csv\n",
            "Scraping https://stats.espncricinfo.com/ci/engine/stats/index.html?class=2;spanmin1=24+Nov+2012;spanval1=span;team=7;template=results;type=bowling;page=1\n",
            "Scraping https://stats.espncricinfo.com/ci/engine/stats/index.html?class=2;spanmin1=24+Nov+2012;spanval1=span;team=7;template=results;type=bowling;page=2\n",
            "ODIs_bowl.csv  SAVED!!!!!\n",
            "ProcessingT20Is_bowl.csv\n",
            "Scraping https://stats.espncricinfo.com/ci/engine/stats/index.html?class=3;spanmin1=24+Nov+2012;spanval1=span;team=7;template=results;type=bowling;page=1\n",
            "Scraping https://stats.espncricinfo.com/ci/engine/stats/index.html?class=3;spanmin1=24+Nov+2012;spanval1=span;team=7;template=results;type=bowling;page=2\n",
            "T20Is_bowl.csv  SAVED!!!!!\n",
            "Scraping completed.\n"
          ]
        }
      ],
      "source": [
        "for name, url in urls.items():\n",
        "    print(\"Processing \"+ name+\".csv\")\n",
        "    data_df = scrape_all_pages(url)\n",
        "\n",
        "    if not data_df.empty:\n",
        "        file_name = name+\".csv\"\n",
        "        data_df.to_csv(file_name, index=False)\n",
        "        print(file_name+\"  SAVED!!!!!\")\n",
        "    else:\n",
        "        print(\"NO DATA FOUND FOR\"+file_name)\n",
        "\n",
        "print(\"Scraping completed.\")"
      ]
    },
    {
      "cell_type": "markdown",
      "metadata": {
        "id": "eA_sEqN-wnae"
      },
      "source": [
        "### **SCRAPE INDIVIDUAL STATS FROM PLAYER PAGE AND IT HAS ONLY ONE PAGE SO NEED TO HANDLE MULTIPLE PAGES**"
      ]
    },
    {
      "cell_type": "code",
      "execution_count": null,
      "metadata": {
        "id": "U34Yd-Pta47H",
        "scrolled": true
      },
      "outputs": [],
      "source": [
        "\n",
        "def scrape_page_individual(url):\n",
        "    response = requests.get(url, impersonate='chrome110')\n",
        "    soup = BeautifulSoup(response.content, 'html.parser')\n",
        "    table_soup = soup.find_all('table', class_='engineTable')\n",
        "    table1 = table_soup[2]\n",
        "    Matches = table_soup[3]\n",
        "    headers = []\n",
        "    for th in Matches.find_all('th'):\n",
        "        headers.append(th.get_text(strip=True))\n",
        "#rows\n",
        "    rows = []\n",
        "    for tr in Matches.find_all('tr', class_='data1'):\n",
        "        cells = tr.find_all('td')\n",
        "        row = [cell.get_text(strip=True) for cell in cells]\n",
        "        rows.append(row)\n",
        "    df = pd.DataFrame(rows, columns=headers)\n",
        "    return df"
      ]
    },
    {
      "cell_type": "markdown",
      "metadata": {
        "id": "4_3PBs1kliCe"
      },
      "source": [
        "### **WE SCRAPE BABAR AZAM's BATTING STATS SINCE THE START OF HIS CAREER IN EACH FORMAT**"
      ]
    },
    {
      "cell_type": "code",
      "execution_count": null,
      "metadata": {
        "id": "PtjSDFZ0ZTRK"
      },
      "outputs": [],
      "source": [
        "BEST_BATSMAN = {\"TEST(BABAR AZAM)\":\"https://stats.espncricinfo.com/ci/engine/player/348144.html?class=1;template=results;type=batting;view=match\",\n",
        "              \"ODI(BABAR AZAM)\":\"https://stats.espncricinfo.com/ci/engine/player/348144.html?class=2;template=results;type=batting;view=match\",\n",
        "              \"T20I(BABAR AZAM)\":\"https://stats.espncricinfo.com/ci/engine/player/348144.html?class=3;template=results;type=batting;view=match\"\n",
        "              }\n"
      ]
    },
    {
      "cell_type": "code",
      "execution_count": null,
      "metadata": {
        "id": "Gd5HJzvIvKWy",
        "outputId": "bd753a3d-7a85-45f0-e5b5-88c1651e5ccc"
      },
      "outputs": [
        {
          "name": "stdout",
          "output_type": "stream",
          "text": [
            "ProcessingTEST(BABAR AZAM).csv\n",
            "TEST(BABAR AZAM).csv  SAVED!!!!!\n",
            "ProcessingODI(BABAR AZAM).csv\n",
            "ODI(BABAR AZAM).csv  SAVED!!!!!\n",
            "ProcessingT20I(BABAR AZAM).csv\n",
            "T20I(BABAR AZAM).csv  SAVED!!!!!\n",
            "Scraping completed.\n"
          ]
        }
      ],
      "source": [
        "for name, url in BEST_BATSMAN.items():\n",
        "    print(\"Processing\"+ name+\".csv\")\n",
        "    data_df = scrape_page_individual(url)#bcz player individual stats has only one page\n",
        "\n",
        "    if not data_df.empty:\n",
        "        file_name = name+\".csv\"\n",
        "        data_df.to_csv(file_name, index=False)\n",
        "        print(file_name+\"  SAVED!!!!!\")\n",
        "    else:\n",
        "        print(\"NO DATA FOUND FOR\"+file_name)\n",
        "\n",
        "print(\"Scraping completed.\")"
      ]
    },
    {
      "cell_type": "markdown",
      "metadata": {
        "id": "aSms6lQvxHG5"
      },
      "source": [
        "### **WE SCRAPE SHAHEEN SHAH AFRIDI's STATS SINCE THE START OF HIS CAREER IN EACH FORMAT**"
      ]
    },
    {
      "cell_type": "code",
      "execution_count": null,
      "metadata": {
        "id": "u6cuJ41QmJZs"
      },
      "outputs": [],
      "source": [
        "BEST_BOWLER = {\n",
        "    \"TEST(SHAHEEN SHAH AFRIDI)\":\"https://stats.espncricinfo.com/ci/engine/player/1072470.html?class=1;template=results;type=bowling;view=match\",\n",
        "    \"ODI(SHAHEEN SHAH AFRIDI)\":\"https://stats.espncricinfo.com/ci/engine/player/1072470.html?class=2;template=results;type=bowling;view=match\",\n",
        "    \"T20i(SHAHEEN SHAH AFRIDI)\":\"https://stats.espncricinfo.com/ci/engine/player/1072470.html?class=3;template=results;type=bowling;view=match\"\n",
        "}"
      ]
    },
    {
      "cell_type": "code",
      "execution_count": null,
      "metadata": {
        "colab": {
          "base_uri": "https://localhost:8080/"
        },
        "id": "o9nvZ-12m1fv",
        "outputId": "af364f7c-ad32-4fe7-92dd-2beba12d2232"
      },
      "outputs": [
        {
          "name": "stdout",
          "output_type": "stream",
          "text": [
            "ProcessingTEST(SHAHEEN SHAH AFRIDI).csv\n",
            "TEST(SHAHEEN SHAH AFRIDI).csv  SAVED!!!!!\n",
            "ProcessingODI(SHAHEEN SHAH AFRIDI).csv\n",
            "ODI(SHAHEEN SHAH AFRIDI).csv  SAVED!!!!!\n",
            "ProcessingT20i(SHAHEEN SHAH AFRIDI).csv\n",
            "T20i(SHAHEEN SHAH AFRIDI).csv  SAVED!!!!!\n",
            "Scraping completed.\n"
          ]
        }
      ],
      "source": [
        "for name, url in BEST_BOWLER.items():\n",
        "    print(\"Processing\"+ name+\".csv\")\n",
        "    data_df = scrape_page_individual(url)#bcz player individual stats has only one page\n",
        "\n",
        "    if not data_df.empty:\n",
        "        file_name = name+\".csv\"\n",
        "        data_df.to_csv(file_name, index=False)\n",
        "        print(file_name+\"  SAVED!!!!!\")\n",
        "    else:\n",
        "        print(\"NO DATA FOUND FOR\"+file_name)\n",
        "\n",
        "print(\"Scraping completed.\")"
      ]
    }
  ],
  "metadata": {
    "colab": {
      "provenance": []
    },
    "kernelspec": {
      "display_name": "Python 3 (ipykernel)",
      "language": "python",
      "name": "python3"
    },
    "language_info": {
      "codemirror_mode": {
        "name": "ipython",
        "version": 3
      },
      "file_extension": ".py",
      "mimetype": "text/x-python",
      "name": "python",
      "nbconvert_exporter": "python",
      "pygments_lexer": "ipython3",
      "version": "3.12.5"
    }
  },
  "nbformat": 4,
  "nbformat_minor": 0
}
